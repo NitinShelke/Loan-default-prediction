{
 "cells": [
  {
   "cell_type": "markdown",
   "id": "0b055da1",
   "metadata": {},
   "source": [
    "#  import the important libraries"
   ]
  },
  {
   "cell_type": "code",
   "execution_count": 4,
   "id": "29337bf6",
   "metadata": {},
   "outputs": [],
   "source": [
    "import pandas as pd \n",
    "import numpy as np\n",
    "\n",
    "import seaborn as sns\n",
    "from matplotlib import pyplot as plt\n",
    "%matplotlib inline\n",
    "\n",
    "import warnings\n",
    "warnings.filterwarnings(\"ignore\")\n",
    "\n",
    "sns.set_style(\"darkgrid\")\n"
   ]
  },
  {
   "cell_type": "code",
   "execution_count": 5,
   "id": "77bc5c0b",
   "metadata": {},
   "outputs": [],
   "source": [
    "# Configuration parameters for data visualization\n",
    "plt.rcParams[\"figure.figsize\"] = (10, 6)  # Set the default figure size\n",
    "plt.rcParams[\"font.size\"] = 12  # Set the default font size\n",
    "plt.rcParams[\"axes.titlesize\"] = 16  # Set the title font size\n",
    "plt.rcParams[\"axes.labelsize\"] = 14  # Set the label font size\n",
    "plt.rcParams[\"xtick.labelsize\"] = 12  # Set the x-axis tick label font size\n",
    "plt.rcParams[\"ytick.labelsize\"] = 12  # Set the y-axis tick label font size\n",
    "plt.rcParams[\"legend.fontsize\"] = 12  # Set the legend font size\n",
    "\n",
    "plt.rcParams[\"axes.grid\"] = True  # Show gridlines in the plot\n",
    "plt.rcParams[\"grid.linestyle\"] = \"--\""
   ]
  },
  {
   "cell_type": "markdown",
   "id": "3c0aac28",
   "metadata": {},
   "source": [
    "# import the data"
   ]
  },
  {
   "cell_type": "code",
   "execution_count": 7,
   "id": "e28f1bdc",
   "metadata": {},
   "outputs": [],
   "source": [
    "data=pd.read_csv(\"Default_Fin.csv\")"
   ]
  },
  {
   "cell_type": "markdown",
   "id": "69e2fccc",
   "metadata": {},
   "source": [
    "# Data preprocessing and cleaning"
   ]
  },
  {
   "cell_type": "code",
   "execution_count": 8,
   "id": "e5d625f0",
   "metadata": {},
   "outputs": [
    {
     "name": "stdout",
     "output_type": "stream",
     "text": [
      "<class 'pandas.core.frame.DataFrame'>\n",
      "RangeIndex: 10000 entries, 0 to 9999\n",
      "Data columns (total 5 columns):\n",
      " #   Column         Non-Null Count  Dtype  \n",
      "---  ------         --------------  -----  \n",
      " 0   Index          10000 non-null  int64  \n",
      " 1   Employed       10000 non-null  int64  \n",
      " 2   Bank Balance   10000 non-null  float64\n",
      " 3   Annual Salary  10000 non-null  float64\n",
      " 4   Defaulted?     10000 non-null  int64  \n",
      "dtypes: float64(2), int64(3)\n",
      "memory usage: 390.8 KB\n"
     ]
    }
   ],
   "source": [
    "data.info()"
   ]
  },
  {
   "cell_type": "code",
   "execution_count": null,
   "id": "c9e1eff3",
   "metadata": {},
   "outputs": [],
   "source": [
    "data.columns=data.columns.str.lower()\n",
    "data.column=data.columns.str.lower()"
   ]
  },
  {
   "cell_type": "code",
   "execution_count": null,
   "id": "9a3ce06d",
   "metadata": {},
   "outputs": [],
   "source": []
  },
  {
   "cell_type": "code",
   "execution_count": null,
   "id": "46a975d7",
   "metadata": {},
   "outputs": [],
   "source": []
  },
  {
   "cell_type": "code",
   "execution_count": null,
   "id": "9424043f",
   "metadata": {},
   "outputs": [],
   "source": []
  },
  {
   "cell_type": "code",
   "execution_count": null,
   "id": "8d62868a",
   "metadata": {},
   "outputs": [],
   "source": []
  },
  {
   "cell_type": "code",
   "execution_count": null,
   "id": "bbe02d8f",
   "metadata": {},
   "outputs": [],
   "source": []
  },
  {
   "cell_type": "code",
   "execution_count": null,
   "id": "d63c1b08",
   "metadata": {},
   "outputs": [],
   "source": []
  },
  {
   "cell_type": "code",
   "execution_count": null,
   "id": "6453635f",
   "metadata": {},
   "outputs": [],
   "source": []
  },
  {
   "cell_type": "code",
   "execution_count": null,
   "id": "ea7accf8",
   "metadata": {},
   "outputs": [],
   "source": []
  },
  {
   "cell_type": "code",
   "execution_count": null,
   "id": "22fe9271",
   "metadata": {},
   "outputs": [],
   "source": []
  },
  {
   "cell_type": "code",
   "execution_count": null,
   "id": "0f1d5c51",
   "metadata": {},
   "outputs": [],
   "source": []
  },
  {
   "cell_type": "code",
   "execution_count": null,
   "id": "6ad73bc0",
   "metadata": {},
   "outputs": [],
   "source": []
  },
  {
   "cell_type": "code",
   "execution_count": null,
   "id": "430a6877",
   "metadata": {},
   "outputs": [],
   "source": []
  },
  {
   "cell_type": "code",
   "execution_count": null,
   "id": "86febf18",
   "metadata": {},
   "outputs": [],
   "source": []
  },
  {
   "cell_type": "code",
   "execution_count": null,
   "id": "52eea650",
   "metadata": {},
   "outputs": [],
   "source": []
  },
  {
   "cell_type": "code",
   "execution_count": null,
   "id": "aa43c645",
   "metadata": {},
   "outputs": [],
   "source": []
  },
  {
   "cell_type": "code",
   "execution_count": null,
   "id": "74a057e6",
   "metadata": {},
   "outputs": [],
   "source": []
  }
 ],
 "metadata": {
  "kernelspec": {
   "display_name": "Python 3",
   "language": "python",
   "name": "python3"
  },
  "language_info": {
   "codemirror_mode": {
    "name": "ipython",
    "version": 3
   },
   "file_extension": ".py",
   "mimetype": "text/x-python",
   "name": "python",
   "nbconvert_exporter": "python",
   "pygments_lexer": "ipython3",
   "version": "3.8.8"
  }
 },
 "nbformat": 4,
 "nbformat_minor": 5
}
